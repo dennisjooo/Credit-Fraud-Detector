{
 "cells": [
  {
   "attachments": {},
   "cell_type": "markdown",
   "metadata": {},
   "source": [
    "# Autoencoder for Fraud Detection\n",
    "---\n",
    "Taken from [Fraud Detection Handbook](https://fraud-detection-handbook.github.io/fraud-detection-handbook/Foreword.html) and [Robin Teuwen's Kaggle notebook](https://www.kaggle.com/code/robinteuwens/anomaly-detection-with-auto-encoders)\n",
    "\n",
    "Data taken from [Machine Learning Group ULB's Credit Card Fraud dataset](https://www.kaggle.com/datasets/mlg-ulb/creditcardfraud)"
   ]
  },
  {
   "attachments": {},
   "cell_type": "markdown",
   "metadata": {},
   "source": [
    "## Pre-Requisites"
   ]
  },
  {
   "attachments": {},
   "cell_type": "markdown",
   "metadata": {},
   "source": [
    "### Importing the Libraries"
   ]
  },
  {
   "cell_type": "code",
   "execution_count": 1,
   "metadata": {},
   "outputs": [],
   "source": [
    "# Turning off Tensorflow loggings\n",
    "import logging, os\n",
    "logging.disable(logging.WARNING)\n",
    "os.environ[\"TF_CPP_MIN_LOG_LEVEL\"] = \"3\""
   ]
  },
  {
   "cell_type": "code",
   "execution_count": 2,
   "metadata": {},
   "outputs": [],
   "source": [
    "# Importing some libraries\n",
    "import numpy as np\n",
    "import pandas as pd\n",
    "import matplotlib.pyplot as plt\n",
    "import seaborn as sns\n",
    "import os\n",
    "import joblib\n",
    "\n",
    "# Importing TensorFlow and Keras Tuner\n",
    "import tensorflow as tf\n",
    "import keras_tuner as kt\n",
    "\n",
    "# Importing datapreprocessing libraries\n",
    "from sklearn.preprocessing import StandardScaler\n",
    "from sklearn.model_selection import train_test_split\n",
    "\n",
    "# Importing metrics from Scikit-Learn\n",
    "from sklearn.metrics import classification_report, confusion_matrix, roc_auc_score, roc_curve, precision_recall_curve, accuracy_score, f1_score, precision_score, recall_score"
   ]
  },
  {
   "cell_type": "code",
   "execution_count": 3,
   "metadata": {},
   "outputs": [],
   "source": [
    "# Setting some save paths\n",
    "graph_path = \"Graphs\"\n",
    "autoencoder_path = \"Models//Autoencoder\"\n",
    "\n",
    "# Creating paths if they don't exist\n",
    "for path in [graph_path, autoencoder_path]:\n",
    "    if not os.path.exists(path):\n",
    "        os.makedirs(path)"
   ]
  },
  {
   "attachments": {},
   "cell_type": "markdown",
   "metadata": {},
   "source": [
    "### Importing the Dataset"
   ]
  },
  {
   "cell_type": "code",
   "execution_count": 4,
   "metadata": {},
   "outputs": [
    {
     "data": {
      "text/html": [
       "<div>\n",
       "<style scoped>\n",
       "    .dataframe tbody tr th:only-of-type {\n",
       "        vertical-align: middle;\n",
       "    }\n",
       "\n",
       "    .dataframe tbody tr th {\n",
       "        vertical-align: top;\n",
       "    }\n",
       "\n",
       "    .dataframe thead th {\n",
       "        text-align: right;\n",
       "    }\n",
       "</style>\n",
       "<table border=\"1\" class=\"dataframe\">\n",
       "  <thead>\n",
       "    <tr style=\"text-align: right;\">\n",
       "      <th></th>\n",
       "      <th>Time</th>\n",
       "      <th>V1</th>\n",
       "      <th>V2</th>\n",
       "      <th>V3</th>\n",
       "      <th>V4</th>\n",
       "      <th>V5</th>\n",
       "      <th>V6</th>\n",
       "      <th>V7</th>\n",
       "      <th>V8</th>\n",
       "      <th>V9</th>\n",
       "      <th>...</th>\n",
       "      <th>V21</th>\n",
       "      <th>V22</th>\n",
       "      <th>V23</th>\n",
       "      <th>V24</th>\n",
       "      <th>V25</th>\n",
       "      <th>V26</th>\n",
       "      <th>V27</th>\n",
       "      <th>V28</th>\n",
       "      <th>Amount</th>\n",
       "      <th>Class</th>\n",
       "    </tr>\n",
       "  </thead>\n",
       "  <tbody>\n",
       "    <tr>\n",
       "      <th>0</th>\n",
       "      <td>0.0</td>\n",
       "      <td>-1.359807</td>\n",
       "      <td>-0.072781</td>\n",
       "      <td>2.536347</td>\n",
       "      <td>1.378155</td>\n",
       "      <td>-0.338321</td>\n",
       "      <td>0.462388</td>\n",
       "      <td>0.239599</td>\n",
       "      <td>0.098698</td>\n",
       "      <td>0.363787</td>\n",
       "      <td>...</td>\n",
       "      <td>-0.018307</td>\n",
       "      <td>0.277838</td>\n",
       "      <td>-0.110474</td>\n",
       "      <td>0.066928</td>\n",
       "      <td>0.128539</td>\n",
       "      <td>-0.189115</td>\n",
       "      <td>0.133558</td>\n",
       "      <td>-0.021053</td>\n",
       "      <td>149.62</td>\n",
       "      <td>0</td>\n",
       "    </tr>\n",
       "    <tr>\n",
       "      <th>1</th>\n",
       "      <td>0.0</td>\n",
       "      <td>1.191857</td>\n",
       "      <td>0.266151</td>\n",
       "      <td>0.166480</td>\n",
       "      <td>0.448154</td>\n",
       "      <td>0.060018</td>\n",
       "      <td>-0.082361</td>\n",
       "      <td>-0.078803</td>\n",
       "      <td>0.085102</td>\n",
       "      <td>-0.255425</td>\n",
       "      <td>...</td>\n",
       "      <td>-0.225775</td>\n",
       "      <td>-0.638672</td>\n",
       "      <td>0.101288</td>\n",
       "      <td>-0.339846</td>\n",
       "      <td>0.167170</td>\n",
       "      <td>0.125895</td>\n",
       "      <td>-0.008983</td>\n",
       "      <td>0.014724</td>\n",
       "      <td>2.69</td>\n",
       "      <td>0</td>\n",
       "    </tr>\n",
       "    <tr>\n",
       "      <th>2</th>\n",
       "      <td>1.0</td>\n",
       "      <td>-1.358354</td>\n",
       "      <td>-1.340163</td>\n",
       "      <td>1.773209</td>\n",
       "      <td>0.379780</td>\n",
       "      <td>-0.503198</td>\n",
       "      <td>1.800499</td>\n",
       "      <td>0.791461</td>\n",
       "      <td>0.247676</td>\n",
       "      <td>-1.514654</td>\n",
       "      <td>...</td>\n",
       "      <td>0.247998</td>\n",
       "      <td>0.771679</td>\n",
       "      <td>0.909412</td>\n",
       "      <td>-0.689281</td>\n",
       "      <td>-0.327642</td>\n",
       "      <td>-0.139097</td>\n",
       "      <td>-0.055353</td>\n",
       "      <td>-0.059752</td>\n",
       "      <td>378.66</td>\n",
       "      <td>0</td>\n",
       "    </tr>\n",
       "    <tr>\n",
       "      <th>3</th>\n",
       "      <td>1.0</td>\n",
       "      <td>-0.966272</td>\n",
       "      <td>-0.185226</td>\n",
       "      <td>1.792993</td>\n",
       "      <td>-0.863291</td>\n",
       "      <td>-0.010309</td>\n",
       "      <td>1.247203</td>\n",
       "      <td>0.237609</td>\n",
       "      <td>0.377436</td>\n",
       "      <td>-1.387024</td>\n",
       "      <td>...</td>\n",
       "      <td>-0.108300</td>\n",
       "      <td>0.005274</td>\n",
       "      <td>-0.190321</td>\n",
       "      <td>-1.175575</td>\n",
       "      <td>0.647376</td>\n",
       "      <td>-0.221929</td>\n",
       "      <td>0.062723</td>\n",
       "      <td>0.061458</td>\n",
       "      <td>123.50</td>\n",
       "      <td>0</td>\n",
       "    </tr>\n",
       "    <tr>\n",
       "      <th>4</th>\n",
       "      <td>2.0</td>\n",
       "      <td>-1.158233</td>\n",
       "      <td>0.877737</td>\n",
       "      <td>1.548718</td>\n",
       "      <td>0.403034</td>\n",
       "      <td>-0.407193</td>\n",
       "      <td>0.095921</td>\n",
       "      <td>0.592941</td>\n",
       "      <td>-0.270533</td>\n",
       "      <td>0.817739</td>\n",
       "      <td>...</td>\n",
       "      <td>-0.009431</td>\n",
       "      <td>0.798278</td>\n",
       "      <td>-0.137458</td>\n",
       "      <td>0.141267</td>\n",
       "      <td>-0.206010</td>\n",
       "      <td>0.502292</td>\n",
       "      <td>0.219422</td>\n",
       "      <td>0.215153</td>\n",
       "      <td>69.99</td>\n",
       "      <td>0</td>\n",
       "    </tr>\n",
       "  </tbody>\n",
       "</table>\n",
       "<p>5 rows × 31 columns</p>\n",
       "</div>"
      ],
      "text/plain": [
       "   Time        V1        V2        V3        V4        V5        V6        V7   \n",
       "0   0.0 -1.359807 -0.072781  2.536347  1.378155 -0.338321  0.462388  0.239599  \\\n",
       "1   0.0  1.191857  0.266151  0.166480  0.448154  0.060018 -0.082361 -0.078803   \n",
       "2   1.0 -1.358354 -1.340163  1.773209  0.379780 -0.503198  1.800499  0.791461   \n",
       "3   1.0 -0.966272 -0.185226  1.792993 -0.863291 -0.010309  1.247203  0.237609   \n",
       "4   2.0 -1.158233  0.877737  1.548718  0.403034 -0.407193  0.095921  0.592941   \n",
       "\n",
       "         V8        V9  ...       V21       V22       V23       V24       V25   \n",
       "0  0.098698  0.363787  ... -0.018307  0.277838 -0.110474  0.066928  0.128539  \\\n",
       "1  0.085102 -0.255425  ... -0.225775 -0.638672  0.101288 -0.339846  0.167170   \n",
       "2  0.247676 -1.514654  ...  0.247998  0.771679  0.909412 -0.689281 -0.327642   \n",
       "3  0.377436 -1.387024  ... -0.108300  0.005274 -0.190321 -1.175575  0.647376   \n",
       "4 -0.270533  0.817739  ... -0.009431  0.798278 -0.137458  0.141267 -0.206010   \n",
       "\n",
       "        V26       V27       V28  Amount  Class  \n",
       "0 -0.189115  0.133558 -0.021053  149.62      0  \n",
       "1  0.125895 -0.008983  0.014724    2.69      0  \n",
       "2 -0.139097 -0.055353 -0.059752  378.66      0  \n",
       "3 -0.221929  0.062723  0.061458  123.50      0  \n",
       "4  0.502292  0.219422  0.215153   69.99      0  \n",
       "\n",
       "[5 rows x 31 columns]"
      ]
     },
     "execution_count": 4,
     "metadata": {},
     "output_type": "execute_result"
    }
   ],
   "source": [
    "# Importing the data in\n",
    "data = pd.read_csv(\"Dataset//creditcard.csv\")\n",
    "\n",
    "# Previewing the data\n",
    "data.head()"
   ]
  },
  {
   "attachments": {},
   "cell_type": "markdown",
   "metadata": {},
   "source": [
    "## Data Exploration"
   ]
  },
  {
   "cell_type": "code",
   "execution_count": 5,
   "metadata": {},
   "outputs": [
    {
     "data": {
      "text/plain": [
       "(284807, 31)"
      ]
     },
     "execution_count": 5,
     "metadata": {},
     "output_type": "execute_result"
    }
   ],
   "source": [
    "# Getting the shape of the data\n",
    "data.shape"
   ]
  },
  {
   "cell_type": "code",
   "execution_count": 6,
   "metadata": {},
   "outputs": [
    {
     "data": {
      "text/html": [
       "<div>\n",
       "<style scoped>\n",
       "    .dataframe tbody tr th:only-of-type {\n",
       "        vertical-align: middle;\n",
       "    }\n",
       "\n",
       "    .dataframe tbody tr th {\n",
       "        vertical-align: top;\n",
       "    }\n",
       "\n",
       "    .dataframe thead th {\n",
       "        text-align: right;\n",
       "    }\n",
       "</style>\n",
       "<table border=\"1\" class=\"dataframe\">\n",
       "  <thead>\n",
       "    <tr style=\"text-align: right;\">\n",
       "      <th></th>\n",
       "      <th>Time</th>\n",
       "      <th>V1</th>\n",
       "      <th>V2</th>\n",
       "      <th>V3</th>\n",
       "      <th>V4</th>\n",
       "      <th>V5</th>\n",
       "      <th>V6</th>\n",
       "      <th>V7</th>\n",
       "      <th>V8</th>\n",
       "      <th>V9</th>\n",
       "      <th>...</th>\n",
       "      <th>V21</th>\n",
       "      <th>V22</th>\n",
       "      <th>V23</th>\n",
       "      <th>V24</th>\n",
       "      <th>V25</th>\n",
       "      <th>V26</th>\n",
       "      <th>V27</th>\n",
       "      <th>V28</th>\n",
       "      <th>Amount</th>\n",
       "      <th>Class</th>\n",
       "    </tr>\n",
       "  </thead>\n",
       "  <tbody>\n",
       "    <tr>\n",
       "      <th>count</th>\n",
       "      <td>284807.000000</td>\n",
       "      <td>2.848070e+05</td>\n",
       "      <td>2.848070e+05</td>\n",
       "      <td>2.848070e+05</td>\n",
       "      <td>2.848070e+05</td>\n",
       "      <td>2.848070e+05</td>\n",
       "      <td>2.848070e+05</td>\n",
       "      <td>2.848070e+05</td>\n",
       "      <td>2.848070e+05</td>\n",
       "      <td>2.848070e+05</td>\n",
       "      <td>...</td>\n",
       "      <td>2.848070e+05</td>\n",
       "      <td>2.848070e+05</td>\n",
       "      <td>2.848070e+05</td>\n",
       "      <td>2.848070e+05</td>\n",
       "      <td>2.848070e+05</td>\n",
       "      <td>2.848070e+05</td>\n",
       "      <td>2.848070e+05</td>\n",
       "      <td>2.848070e+05</td>\n",
       "      <td>284807.000000</td>\n",
       "      <td>284807.000000</td>\n",
       "    </tr>\n",
       "    <tr>\n",
       "      <th>mean</th>\n",
       "      <td>94813.859575</td>\n",
       "      <td>1.168375e-15</td>\n",
       "      <td>3.416908e-16</td>\n",
       "      <td>-1.379537e-15</td>\n",
       "      <td>2.074095e-15</td>\n",
       "      <td>9.604066e-16</td>\n",
       "      <td>1.487313e-15</td>\n",
       "      <td>-5.556467e-16</td>\n",
       "      <td>1.213481e-16</td>\n",
       "      <td>-2.406331e-15</td>\n",
       "      <td>...</td>\n",
       "      <td>1.654067e-16</td>\n",
       "      <td>-3.568593e-16</td>\n",
       "      <td>2.578648e-16</td>\n",
       "      <td>4.473266e-15</td>\n",
       "      <td>5.340915e-16</td>\n",
       "      <td>1.683437e-15</td>\n",
       "      <td>-3.660091e-16</td>\n",
       "      <td>-1.227390e-16</td>\n",
       "      <td>88.349619</td>\n",
       "      <td>0.001727</td>\n",
       "    </tr>\n",
       "    <tr>\n",
       "      <th>std</th>\n",
       "      <td>47488.145955</td>\n",
       "      <td>1.958696e+00</td>\n",
       "      <td>1.651309e+00</td>\n",
       "      <td>1.516255e+00</td>\n",
       "      <td>1.415869e+00</td>\n",
       "      <td>1.380247e+00</td>\n",
       "      <td>1.332271e+00</td>\n",
       "      <td>1.237094e+00</td>\n",
       "      <td>1.194353e+00</td>\n",
       "      <td>1.098632e+00</td>\n",
       "      <td>...</td>\n",
       "      <td>7.345240e-01</td>\n",
       "      <td>7.257016e-01</td>\n",
       "      <td>6.244603e-01</td>\n",
       "      <td>6.056471e-01</td>\n",
       "      <td>5.212781e-01</td>\n",
       "      <td>4.822270e-01</td>\n",
       "      <td>4.036325e-01</td>\n",
       "      <td>3.300833e-01</td>\n",
       "      <td>250.120109</td>\n",
       "      <td>0.041527</td>\n",
       "    </tr>\n",
       "    <tr>\n",
       "      <th>min</th>\n",
       "      <td>0.000000</td>\n",
       "      <td>-5.640751e+01</td>\n",
       "      <td>-7.271573e+01</td>\n",
       "      <td>-4.832559e+01</td>\n",
       "      <td>-5.683171e+00</td>\n",
       "      <td>-1.137433e+02</td>\n",
       "      <td>-2.616051e+01</td>\n",
       "      <td>-4.355724e+01</td>\n",
       "      <td>-7.321672e+01</td>\n",
       "      <td>-1.343407e+01</td>\n",
       "      <td>...</td>\n",
       "      <td>-3.483038e+01</td>\n",
       "      <td>-1.093314e+01</td>\n",
       "      <td>-4.480774e+01</td>\n",
       "      <td>-2.836627e+00</td>\n",
       "      <td>-1.029540e+01</td>\n",
       "      <td>-2.604551e+00</td>\n",
       "      <td>-2.256568e+01</td>\n",
       "      <td>-1.543008e+01</td>\n",
       "      <td>0.000000</td>\n",
       "      <td>0.000000</td>\n",
       "    </tr>\n",
       "    <tr>\n",
       "      <th>25%</th>\n",
       "      <td>54201.500000</td>\n",
       "      <td>-9.203734e-01</td>\n",
       "      <td>-5.985499e-01</td>\n",
       "      <td>-8.903648e-01</td>\n",
       "      <td>-8.486401e-01</td>\n",
       "      <td>-6.915971e-01</td>\n",
       "      <td>-7.682956e-01</td>\n",
       "      <td>-5.540759e-01</td>\n",
       "      <td>-2.086297e-01</td>\n",
       "      <td>-6.430976e-01</td>\n",
       "      <td>...</td>\n",
       "      <td>-2.283949e-01</td>\n",
       "      <td>-5.423504e-01</td>\n",
       "      <td>-1.618463e-01</td>\n",
       "      <td>-3.545861e-01</td>\n",
       "      <td>-3.171451e-01</td>\n",
       "      <td>-3.269839e-01</td>\n",
       "      <td>-7.083953e-02</td>\n",
       "      <td>-5.295979e-02</td>\n",
       "      <td>5.600000</td>\n",
       "      <td>0.000000</td>\n",
       "    </tr>\n",
       "    <tr>\n",
       "      <th>50%</th>\n",
       "      <td>84692.000000</td>\n",
       "      <td>1.810880e-02</td>\n",
       "      <td>6.548556e-02</td>\n",
       "      <td>1.798463e-01</td>\n",
       "      <td>-1.984653e-02</td>\n",
       "      <td>-5.433583e-02</td>\n",
       "      <td>-2.741871e-01</td>\n",
       "      <td>4.010308e-02</td>\n",
       "      <td>2.235804e-02</td>\n",
       "      <td>-5.142873e-02</td>\n",
       "      <td>...</td>\n",
       "      <td>-2.945017e-02</td>\n",
       "      <td>6.781943e-03</td>\n",
       "      <td>-1.119293e-02</td>\n",
       "      <td>4.097606e-02</td>\n",
       "      <td>1.659350e-02</td>\n",
       "      <td>-5.213911e-02</td>\n",
       "      <td>1.342146e-03</td>\n",
       "      <td>1.124383e-02</td>\n",
       "      <td>22.000000</td>\n",
       "      <td>0.000000</td>\n",
       "    </tr>\n",
       "    <tr>\n",
       "      <th>75%</th>\n",
       "      <td>139320.500000</td>\n",
       "      <td>1.315642e+00</td>\n",
       "      <td>8.037239e-01</td>\n",
       "      <td>1.027196e+00</td>\n",
       "      <td>7.433413e-01</td>\n",
       "      <td>6.119264e-01</td>\n",
       "      <td>3.985649e-01</td>\n",
       "      <td>5.704361e-01</td>\n",
       "      <td>3.273459e-01</td>\n",
       "      <td>5.971390e-01</td>\n",
       "      <td>...</td>\n",
       "      <td>1.863772e-01</td>\n",
       "      <td>5.285536e-01</td>\n",
       "      <td>1.476421e-01</td>\n",
       "      <td>4.395266e-01</td>\n",
       "      <td>3.507156e-01</td>\n",
       "      <td>2.409522e-01</td>\n",
       "      <td>9.104512e-02</td>\n",
       "      <td>7.827995e-02</td>\n",
       "      <td>77.165000</td>\n",
       "      <td>0.000000</td>\n",
       "    </tr>\n",
       "    <tr>\n",
       "      <th>max</th>\n",
       "      <td>172792.000000</td>\n",
       "      <td>2.454930e+00</td>\n",
       "      <td>2.205773e+01</td>\n",
       "      <td>9.382558e+00</td>\n",
       "      <td>1.687534e+01</td>\n",
       "      <td>3.480167e+01</td>\n",
       "      <td>7.330163e+01</td>\n",
       "      <td>1.205895e+02</td>\n",
       "      <td>2.000721e+01</td>\n",
       "      <td>1.559499e+01</td>\n",
       "      <td>...</td>\n",
       "      <td>2.720284e+01</td>\n",
       "      <td>1.050309e+01</td>\n",
       "      <td>2.252841e+01</td>\n",
       "      <td>4.584549e+00</td>\n",
       "      <td>7.519589e+00</td>\n",
       "      <td>3.517346e+00</td>\n",
       "      <td>3.161220e+01</td>\n",
       "      <td>3.384781e+01</td>\n",
       "      <td>25691.160000</td>\n",
       "      <td>1.000000</td>\n",
       "    </tr>\n",
       "  </tbody>\n",
       "</table>\n",
       "<p>8 rows × 31 columns</p>\n",
       "</div>"
      ],
      "text/plain": [
       "                Time            V1            V2            V3            V4   \n",
       "count  284807.000000  2.848070e+05  2.848070e+05  2.848070e+05  2.848070e+05  \\\n",
       "mean    94813.859575  1.168375e-15  3.416908e-16 -1.379537e-15  2.074095e-15   \n",
       "std     47488.145955  1.958696e+00  1.651309e+00  1.516255e+00  1.415869e+00   \n",
       "min         0.000000 -5.640751e+01 -7.271573e+01 -4.832559e+01 -5.683171e+00   \n",
       "25%     54201.500000 -9.203734e-01 -5.985499e-01 -8.903648e-01 -8.486401e-01   \n",
       "50%     84692.000000  1.810880e-02  6.548556e-02  1.798463e-01 -1.984653e-02   \n",
       "75%    139320.500000  1.315642e+00  8.037239e-01  1.027196e+00  7.433413e-01   \n",
       "max    172792.000000  2.454930e+00  2.205773e+01  9.382558e+00  1.687534e+01   \n",
       "\n",
       "                 V5            V6            V7            V8            V9   \n",
       "count  2.848070e+05  2.848070e+05  2.848070e+05  2.848070e+05  2.848070e+05  \\\n",
       "mean   9.604066e-16  1.487313e-15 -5.556467e-16  1.213481e-16 -2.406331e-15   \n",
       "std    1.380247e+00  1.332271e+00  1.237094e+00  1.194353e+00  1.098632e+00   \n",
       "min   -1.137433e+02 -2.616051e+01 -4.355724e+01 -7.321672e+01 -1.343407e+01   \n",
       "25%   -6.915971e-01 -7.682956e-01 -5.540759e-01 -2.086297e-01 -6.430976e-01   \n",
       "50%   -5.433583e-02 -2.741871e-01  4.010308e-02  2.235804e-02 -5.142873e-02   \n",
       "75%    6.119264e-01  3.985649e-01  5.704361e-01  3.273459e-01  5.971390e-01   \n",
       "max    3.480167e+01  7.330163e+01  1.205895e+02  2.000721e+01  1.559499e+01   \n",
       "\n",
       "       ...           V21           V22           V23           V24   \n",
       "count  ...  2.848070e+05  2.848070e+05  2.848070e+05  2.848070e+05  \\\n",
       "mean   ...  1.654067e-16 -3.568593e-16  2.578648e-16  4.473266e-15   \n",
       "std    ...  7.345240e-01  7.257016e-01  6.244603e-01  6.056471e-01   \n",
       "min    ... -3.483038e+01 -1.093314e+01 -4.480774e+01 -2.836627e+00   \n",
       "25%    ... -2.283949e-01 -5.423504e-01 -1.618463e-01 -3.545861e-01   \n",
       "50%    ... -2.945017e-02  6.781943e-03 -1.119293e-02  4.097606e-02   \n",
       "75%    ...  1.863772e-01  5.285536e-01  1.476421e-01  4.395266e-01   \n",
       "max    ...  2.720284e+01  1.050309e+01  2.252841e+01  4.584549e+00   \n",
       "\n",
       "                V25           V26           V27           V28         Amount   \n",
       "count  2.848070e+05  2.848070e+05  2.848070e+05  2.848070e+05  284807.000000  \\\n",
       "mean   5.340915e-16  1.683437e-15 -3.660091e-16 -1.227390e-16      88.349619   \n",
       "std    5.212781e-01  4.822270e-01  4.036325e-01  3.300833e-01     250.120109   \n",
       "min   -1.029540e+01 -2.604551e+00 -2.256568e+01 -1.543008e+01       0.000000   \n",
       "25%   -3.171451e-01 -3.269839e-01 -7.083953e-02 -5.295979e-02       5.600000   \n",
       "50%    1.659350e-02 -5.213911e-02  1.342146e-03  1.124383e-02      22.000000   \n",
       "75%    3.507156e-01  2.409522e-01  9.104512e-02  7.827995e-02      77.165000   \n",
       "max    7.519589e+00  3.517346e+00  3.161220e+01  3.384781e+01   25691.160000   \n",
       "\n",
       "               Class  \n",
       "count  284807.000000  \n",
       "mean        0.001727  \n",
       "std         0.041527  \n",
       "min         0.000000  \n",
       "25%         0.000000  \n",
       "50%         0.000000  \n",
       "75%         0.000000  \n",
       "max         1.000000  \n",
       "\n",
       "[8 rows x 31 columns]"
      ]
     },
     "execution_count": 6,
     "metadata": {},
     "output_type": "execute_result"
    }
   ],
   "source": [
    "# Getting a description of the data\n",
    "data.describe()"
   ]
  },
  {
   "cell_type": "code",
   "execution_count": 7,
   "metadata": {},
   "outputs": [
    {
     "data": {
      "text/plain": [
       "0"
      ]
     },
     "execution_count": 7,
     "metadata": {},
     "output_type": "execute_result"
    }
   ],
   "source": [
    "# Checking for missing values\n",
    "(data.isnull().sum() != 0).sum()"
   ]
  },
  {
   "cell_type": "code",
   "execution_count": 8,
   "metadata": {},
   "outputs": [],
   "source": [
    "# Removing the time column\n",
    "data = data.drop(\"Time\", axis=1)"
   ]
  },
  {
   "cell_type": "code",
   "execution_count": 9,
   "metadata": {},
   "outputs": [
    {
     "data": {
      "text/plain": [
       "Class\n",
       "0    284315\n",
       "1       492\n",
       "Name: count, dtype: int64"
      ]
     },
     "execution_count": 9,
     "metadata": {},
     "output_type": "execute_result"
    }
   ],
   "source": [
    "# Checking the distribution of the target variable\n",
    "data[\"Class\"].value_counts()"
   ]
  },
  {
   "attachments": {},
   "cell_type": "markdown",
   "metadata": {},
   "source": [
    "## Data Preprocessing"
   ]
  },
  {
   "cell_type": "code",
   "execution_count": 10,
   "metadata": {},
   "outputs": [],
   "source": [
    "# Manually undersampling the data\n",
    "fraud = data[data[\"Class\"] == 1]\n",
    "not_fraud = data[data[\"Class\"] == 0]"
   ]
  },
  {
   "cell_type": "code",
   "execution_count": 11,
   "metadata": {},
   "outputs": [],
   "source": [
    "# Selecting 492 random non-fraudulent transactions\n",
    "X_dev_not_fraud = not_fraud.sample(n=fraud.shape[0], random_state=42)\n",
    "\n",
    "# Separating the remaining non-fraudulent transactions and the fraudulent transactions for the dev set\n",
    "X_dev = pd.concat([X_dev_not_fraud, fraud], axis=0)\n",
    "y_dev = X_dev[\"Class\"]\n",
    "X_dev = X_dev.drop(\"Class\", axis=1)\n",
    "\n",
    "# Getting only the non-fraudulent transactions for the training set and the dev set\n",
    "X_train = not_fraud.drop(X_dev_not_fraud.index)\n",
    "y_train = X_train[\"Class\"]\n",
    "X_train = X_train.drop(\"Class\", axis=1)\n",
    "\n",
    "# Separating the remaining non-fraudulent transactions and the fraudulent transactions for the test set\n",
    "X_dev = pd.concat([not_fraud.drop(X_train.index), fraud], axis=0)\n",
    "y_dev = X_dev[\"Class\"]\n",
    "X_dev = X_dev.drop(\"Class\", axis=1)\n",
    "\n",
    "# Splitting the training data into train and dev sets\n",
    "X_train, X_train_dev, y_train, y_train_dev = train_test_split(X_train, y_train, test_size=0.2, random_state=42)"
   ]
  },
  {
   "cell_type": "code",
   "execution_count": 12,
   "metadata": {},
   "outputs": [],
   "source": [
    "# Scaling the data\n",
    "scaler = StandardScaler()\n",
    "scaler.fit(X_train)\n",
    "\n",
    "# Transforming the data\n",
    "X_train = scaler.transform(X_train)\n",
    "X_dev = scaler.transform(X_dev)\n",
    "X_train_dev = scaler.transform(X_train_dev)"
   ]
  },
  {
   "attachments": {},
   "cell_type": "markdown",
   "metadata": {},
   "source": [
    "## Model Building"
   ]
  },
  {
   "attachments": {},
   "cell_type": "markdown",
   "metadata": {},
   "source": [
    "### Helper Functions"
   ]
  },
  {
   "cell_type": "code",
   "execution_count": 13,
   "metadata": {},
   "outputs": [],
   "source": [
    "def plot_roc_curve(label, prediction, title=None, save=False):\n",
    "    # Calculating the FPR and TPR score at different thresholds\n",
    "    fpr, tpr, thresholds = roc_curve(label, prediction)\n",
    "\n",
    "    # Setting the figure size\n",
    "    plt.figure(figsize=(10, 6))\n",
    "\n",
    "    # Plotting the ROC curve\n",
    "    plt.plot(fpr, tpr, label=\"ROC Curve\")\n",
    "    plt.plot([0, 1], [0, 1], label=\"Random Classifier\")\n",
    "\n",
    "    # Plot settings\n",
    "    plt.xlabel(\"False Positive Rate\")\n",
    "    plt.ylabel(\"True Positive Rate\")\n",
    "    plt.title(\"ROC Curve for {}\".format(title if title is not None else \"the Model\"))\n",
    "    plt.legend()\n",
    "    sns.despine()\n",
    "\n",
    "    # Saving the plot if specified\n",
    "    if save and title is not None:\n",
    "        path = os.path.join(graph_path, \"roc_{}.png\".format(str.lower(title)))\n",
    "        plt.savefig(path, dpi=300, bbox_inches=\"tight\", transparent=True)\n",
    "\n",
    "    # Displaying the plot\n",
    "    plt.show()"
   ]
  },
  {
   "cell_type": "code",
   "execution_count": 14,
   "metadata": {},
   "outputs": [],
   "source": [
    "def plot_precision_recall_curve(label, prediction, title=None, save=False):\n",
    "    # Calculating the precision and recall for different thresholds\n",
    "    precision, recall, thresholds = precision_recall_curve(label, prediction)\n",
    "\n",
    "    # Setting the figure size\n",
    "    plt.figure(figsize=(10, 6))\n",
    "\n",
    "    # Plotting the precision and recall for different thresholds\n",
    "    plt.plot(thresholds, precision[1:], label=\"Precision\")\n",
    "    plt.plot(thresholds, recall[1:], label=\"Recall\")\n",
    "\n",
    "    # Plot settings\n",
    "    plt.xlabel(\"Threshold\")\n",
    "    plt.ylabel(\"Precision/Recall\")\n",
    "    plt.title(\"Precision/Recall to Threshold Curve for {}\".format(title if title is not None else \"the Model\"))\n",
    "    plt.legend()\n",
    "    sns.despine()\n",
    "\n",
    "    # Saving the plot if specified\n",
    "    if save and title is not None:\n",
    "        path = os.path.join(graph_path, \"pr_{}.png\".format(str.lower(title)))\n",
    "        plt.savefig(path, dpi=300, bbox_inches=\"tight\", transparent=True)\n",
    "\n",
    "    # Showing the plot\n",
    "    plt.show()"
   ]
  },
  {
   "cell_type": "code",
   "execution_count": 15,
   "metadata": {},
   "outputs": [],
   "source": [
    "def plot_confusion_matrix(label, prediction, title=None, save=False):\n",
    "    # Creating the confusion matrix\n",
    "    cm = confusion_matrix(label, prediction)\n",
    "\n",
    "    # Setting the figure size\n",
    "    plt.figure(figsize=(10, 6))\n",
    "\n",
    "    # Plotting the confusion matrix\n",
    "    sns.heatmap(cm, annot=True, fmt=\"d\", cmap=\"Blues\")\n",
    "\n",
    "    # Plot settings\n",
    "    plt.xlabel(\"Predicted\")\n",
    "    plt.ylabel(\"Actual\")\n",
    "    plt.title(\"Confusion Matrix for {}\".format(title if title is not None else \"the Model\"))\n",
    "\n",
    "    # Saving the plot if specified\n",
    "    if save and title is not None:\n",
    "        path = os.path.join(graph_path, \"cm_{}.png\".format(str.lower(title)))\n",
    "        plt.savefig(path, dpi=300, bbox_inches=\"tight\", transparent=True)\n",
    "\n",
    "    # Showing the plot\n",
    "    plt.show()\n",
    "    "
   ]
  },
  {
   "cell_type": "code",
   "execution_count": 16,
   "metadata": {},
   "outputs": [],
   "source": [
    "def classifier_metrics(label, prediction):\n",
    "    # Accuracy score\n",
    "    accuracy = accuracy_score(label, prediction)\n",
    "\n",
    "    # F1 score\n",
    "    f1 = f1_score(label, prediction)\n",
    "\n",
    "    # Precision score\n",
    "    precision = precision_score(label, prediction)\n",
    "\n",
    "    # Recall score\n",
    "    recall = recall_score(label, prediction)\n",
    "\n",
    "    # AUC score\n",
    "    auc = roc_auc_score(label, prediction)\n",
    "\n",
    "    # Returning the scores\n",
    "    return {\"Accuracy\": accuracy, \"F1\": f1, \"Precision\": precision, \"Recall\": recall, \"AUC\": auc}\n",
    "    "
   ]
  },
  {
   "attachments": {},
   "cell_type": "markdown",
   "metadata": {},
   "source": [
    "### Autoencoder"
   ]
  },
  {
   "attachments": {},
   "cell_type": "markdown",
   "metadata": {},
   "source": [
    "#### Building the Encoder"
   ]
  },
  {
   "cell_type": "code",
   "execution_count": 17,
   "metadata": {},
   "outputs": [],
   "source": [
    "# Creating the Encoder model\n",
    "class Encoder(tf.keras.Model):\n",
    "    def __init__(self, input_size, latent_size=2, hidden_layers=2,\n",
    "                 activation=\"elu\", dropout=0.2):\n",
    "        \n",
    "        # Initializing the model using the super() function\n",
    "        super(Encoder, self).__init__()\n",
    "\n",
    "        # Calculating the number of units in each hidden layer\n",
    "        self.decrement = abs((input_size - latent_size)) // hidden_layers\n",
    "        self.hidden_units = [input_size - (i * self.decrement) \n",
    "                             for i in range(1, hidden_layers)] + [latent_size]\n",
    "        \n",
    "        # Creating the hidden layers\n",
    "        self.layer_stack = tf.keras.Sequential(name=\"encoder_stack\")\n",
    "        for units in self.hidden_units:\n",
    "            self.layer_stack.add(tf.keras.layers.Dense(units, activation=activation))\n",
    "\n",
    "        # Creating the dropout layer to give noise to the input (only during training)\n",
    "        self.dropout = tf.keras.layers.Dropout(dropout, name=\"input_noise\")\n",
    "        \n",
    "    def call(self, x):\n",
    "        # Adding noise to the input (only during training)\n",
    "        x = self.dropout(x)\n",
    "\n",
    "        # Passing the input through the hidden layers\n",
    "        x = self.layer_stack(x)\n",
    "        return x"
   ]
  },
  {
   "attachments": {},
   "cell_type": "markdown",
   "metadata": {},
   "source": [
    "#### Building the Decoder"
   ]
  },
  {
   "cell_type": "code",
   "execution_count": 18,
   "metadata": {},
   "outputs": [],
   "source": [
    "# Creating the Decoder model\n",
    "class Decoder(tf.keras.Model):\n",
    "    def __init__(self, input_size, output_size, hidden_layers=2,\n",
    "                 encoder_units=None, activation=\"elu\"):\n",
    "        \n",
    "        # Initializing the model using the super() function\n",
    "        super(Decoder, self).__init__()\n",
    "\n",
    "        # Creating the hidden layers\n",
    "        self.layer_stack = tf.keras.Sequential(name=\"decoder_stack\")\n",
    "\n",
    "        # Calculating the number of units in each hidden layer if not specified\n",
    "        if encoder_units is None:\n",
    "            self.increment_size = abs((output_size - input_size)) // hidden_layers\n",
    "\n",
    "            self.hidden_units = [input_size + self.increment_size * (i + 1) \n",
    "                                for i in range(hidden_layers - 1)] + [output_size]\n",
    "        \n",
    "        # Using the encoder units if specified\n",
    "        else:\n",
    "            self.hidden_units = encoder_units[::-1][1:] + [output_size]\n",
    "\n",
    "        # Creating the hidden layers\n",
    "        self.layer_stack = tf.keras.Sequential(name=\"decoder_stack\")\n",
    "\n",
    "        # Creating the hidden layers\n",
    "        for units in list(self.hidden_units):\n",
    "            self.layer_stack.add(tf.keras.layers.Dense(units, activation=activation))\n",
    "\n",
    "    def call(self, x):\n",
    "        # Passing the input through the hidden layers\n",
    "        x = self.layer_stack(x)\n",
    "        return x"
   ]
  },
  {
   "attachments": {},
   "cell_type": "markdown",
   "metadata": {},
   "source": [
    "#### Building the Autoencoder"
   ]
  },
  {
   "cell_type": "code",
   "execution_count": 19,
   "metadata": {},
   "outputs": [],
   "source": [
    "# Creating the Autoencoder model\n",
    "class Autoencoder(tf.keras.Model):\n",
    "    def __init__(self, input_size, latent_size, hidden_layers=6, activation='elu', dropout=0.2):\n",
    "\n",
    "        # Initializing the model using the super() function\n",
    "        super(Autoencoder, self).__init__()\n",
    "\n",
    "        # Creating the encoder\n",
    "        self.encoder = Encoder(input_size=input_size, latent_size=latent_size, \n",
    "                               hidden_layers=hidden_layers, activation=activation, dropout=dropout)\n",
    "        \n",
    "        # Creating the decoder\n",
    "        self.decoder = Decoder(input_size=latent_size, output_size=input_size, \n",
    "                               hidden_layers=hidden_layers, encoder_units=self.encoder.hidden_units, activation=activation)\n",
    "\n",
    "    def call(self, x):\n",
    "        # Passing the input through the encoder and decoder\n",
    "        x = self.encoder(x)\n",
    "\n",
    "        # Passing the output of the encoder through the decoder\n",
    "        x = self.decoder(x)\n",
    "        return x"
   ]
  },
  {
   "cell_type": "code",
   "execution_count": 20,
   "metadata": {},
   "outputs": [],
   "source": [
    "# Setting the hyperparameters\n",
    "input_size = X_train.shape[1]\n",
    "latent_size = 2\n",
    "activation = \"elu\"\n",
    "hidden_layers = 3\n",
    "dropout_rate = 0.2"
   ]
  },
  {
   "cell_type": "code",
   "execution_count": 21,
   "metadata": {},
   "outputs": [
    {
     "name": "stdout",
     "output_type": "stream",
     "text": [
      "Model: \"autoencoder\"\n",
      "_________________________________________________________________\n",
      " Layer (type)                Output Shape              Param #   \n",
      "=================================================================\n",
      " encoder (Encoder)           multiple                  855       \n",
      "                                                                 \n",
      " decoder (Decoder)           multiple                  882       \n",
      "                                                                 \n",
      "=================================================================\n",
      "Total params: 1,737\n",
      "Trainable params: 1,737\n",
      "Non-trainable params: 0\n",
      "_________________________________________________________________\n"
     ]
    }
   ],
   "source": [
    "# TensorFlow random seed\n",
    "tf.keras.utils.set_random_seed(42)\n",
    "\n",
    "# Testing if the model can be built\n",
    "model = Autoencoder(input_size=input_size, latent_size=latent_size, hidden_layers=hidden_layers,\n",
    "                    activation=activation, dropout=dropout_rate)\n",
    "\n",
    "# Building the model\n",
    "model.build(input_shape=(None, input_size))\n",
    "\n",
    "# Printing the model architecture\n",
    "model.summary()"
   ]
  },
  {
   "attachments": {},
   "cell_type": "markdown",
   "metadata": {},
   "source": [
    "#### Tuning the Autoencoder"
   ]
  },
  {
   "cell_type": "code",
   "execution_count": 22,
   "metadata": {},
   "outputs": [],
   "source": [
    "class AutoencoderTune(kt.HyperModel):\n",
    "    def __init__(self, name=None, tunable=True, input_size=X_train.shape[1]):\n",
    "        super().__init__(name, tunable)\n",
    "\n",
    "        # Setting the input size (it's fixed for this dataset)\n",
    "        self.input_size = input_size\n",
    "\n",
    "    def param_choice(self, hp):\n",
    "        # Defining the hyperparameters to tune\n",
    "        latent_size = hp.Int(\"latent_size\", min_value=2, max_value=10, step=1)\n",
    "        learning_rate = hp.Float(\"learning_rate\", min_value=1e-5, max_value=1e-2, sampling=\"log\")\n",
    "        activation = hp.Choice(\"activation\", values=[\"elu\", \"relu\", \"tanh\", \"leaky_relu\"])\n",
    "        hidden_layers = hp.Int(\"hidden_layers\", min_value=2, max_value=10, step=1)\n",
    "        dropout_rate = hp.Float(\"dropout_rate\", min_value=0.0, max_value=0.5, step=0.05)\n",
    "        return latent_size, learning_rate, activation, hidden_layers, dropout_rate\n",
    "    \n",
    "    def build(self, hp):\n",
    "        # Getting the hyperparameters\n",
    "        latent_size, learning_rate, activation, hidden_layers, dropout_rate = self.param_choice(hp)\n",
    "\n",
    "        # TensorFlow random seed\n",
    "        tf.keras.utils.set_random_seed(42)\n",
    "\n",
    "        # Creating the model\n",
    "        model = Autoencoder(input_size=self.input_size, latent_size=latent_size, hidden_layers=hidden_layers,\n",
    "                            activation=activation, dropout=dropout_rate)\n",
    "        \n",
    "        # Compiling the model\n",
    "        model.compile(optimizer=tf.keras.optimizers.Adam(learning_rate=learning_rate), loss=\"mse\")\n",
    "\n",
    "        return model\n",
    "    \n",
    "    def fit(self, hp, model, *args, **kwargs):\n",
    "        # Fitting the model\n",
    "        return model.fit(*args, **kwargs)"
   ]
  },
  {
   "cell_type": "code",
   "execution_count": 23,
   "metadata": {},
   "outputs": [],
   "source": [
    "# Training hyperparams\n",
    "batch_size = 2048\n",
    "epochs = 500\n",
    "early_stopping_patience = 100\n",
    "\n",
    "# Setting up the tuner\n",
    "tuner = kt.Hyperband(AutoencoderTune(input_size=input_size), objective=kt.Objective('val_loss', 'min'), \n",
    "                     max_epochs=epochs, factor=5, directory=os.path.join(autoencoder_path, 'hyperband'), \n",
    "                     project_name=\"autoencoder\", seed=42, overwrite=False)\n",
    "\n",
    "# Setting up the early stopping callback\n",
    "early_stopping = tf.keras.callbacks.EarlyStopping(monitor='val_loss', patience=early_stopping_patience,\n",
    "                                                  restore_best_weights=True)   "
   ]
  },
  {
   "cell_type": "code",
   "execution_count": 24,
   "metadata": {},
   "outputs": [],
   "source": [
    "# # Fitting the tuner\n",
    "# tuner.search(X_train, X_train, epochs=epochs, batch_size=batch_size, \n",
    "#              validation_data=(X_train_dev, X_train_dev),callbacks=[early_stopping])\n",
    "\n",
    "# # Saving the optimal hyperparameters\n",
    "# joblib.dump(tuner.get_best_hyperparameters()[0].values, os.path.join(autoencoder_path, \"best_hps.pkl\"))"
   ]
  },
  {
   "cell_type": "code",
   "execution_count": 25,
   "metadata": {},
   "outputs": [
    {
     "data": {
      "text/plain": [
       "{'latent_size': 10,\n",
       " 'learning_rate': 0.0004661941083582669,\n",
       " 'activation': 'leaky_relu',\n",
       " 'hidden_layers': 5,\n",
       " 'dropout_rate': 0.05,\n",
       " 'tuner/epochs': 500,\n",
       " 'tuner/initial_epoch': 100,\n",
       " 'tuner/bracket': 2,\n",
       " 'tuner/round': 2,\n",
       " 'tuner/trial_id': '0248'}"
      ]
     },
     "execution_count": 25,
     "metadata": {},
     "output_type": "execute_result"
    }
   ],
   "source": [
    "# Getting the optimal hyperparameters\n",
    "best_hps_ae = joblib.load(os.path.join(autoencoder_path, \"best_hps.pkl\"))\n",
    "best_hps_ae"
   ]
  },
  {
   "attachments": {},
   "cell_type": "markdown",
   "metadata": {},
   "source": [
    "#### Training the Autoencoder"
   ]
  },
  {
   "cell_type": "code",
   "execution_count": 26,
   "metadata": {},
   "outputs": [
    {
     "name": "stdout",
     "output_type": "stream",
     "text": [
      "Model: \"autoencoder\"\n",
      "_________________________________________________________________\n",
      " Layer (type)                Output Shape              Param #   \n",
      "=================================================================\n",
      " encoder (Encoder)           multiple                  2418      \n",
      "                                                                 \n",
      " decoder (Decoder)           multiple                  2437      \n",
      "                                                                 \n",
      "=================================================================\n",
      "Total params: 4,855\n",
      "Trainable params: 4,855\n",
      "Non-trainable params: 0\n",
      "_________________________________________________________________\n"
     ]
    }
   ],
   "source": [
    "# Clearing the session\n",
    "tf.keras.backend.clear_session()\n",
    "\n",
    "# TensorFlow random seed\n",
    "tf.keras.utils.set_random_seed(42)\n",
    "\n",
    "# Creating the model\n",
    "model = Autoencoder(input_size=input_size, latent_size=best_hps_ae[\"latent_size\"],\n",
    "                    hidden_layers=best_hps_ae[\"hidden_layers\"], activation=best_hps_ae[\"activation\"],\n",
    "                    dropout=best_hps_ae[\"dropout_rate\"])\n",
    "\n",
    "# Building the model\n",
    "model.build(input_shape=(None, input_size))\n",
    "\n",
    "# Compiling the model\n",
    "model.compile(optimizer=tf.keras.optimizers.Adam(learning_rate=best_hps_ae[\"learning_rate\"]), loss=\"mse\")\n",
    "\n",
    "# Previewing the model architecture\n",
    "model.summary()"
   ]
  },
  {
   "cell_type": "code",
   "execution_count": 27,
   "metadata": {},
   "outputs": [],
   "source": [
    "# Training hyperparams\n",
    "batch_size = 2048\n",
    "epochs = 500\n",
    "early_stopping_patience = 100\n",
    "\n",
    "# Early stopping callback\n",
    "early_stopping = tf.keras.callbacks.EarlyStopping(monitor=\"loss\", patience=early_stopping_patience, mode=\"min\", \n",
    "                                                  restore_best_weights=True, verbose=0)\n",
    "\n",
    "# Model checkpoint callback\n",
    "model_checkpoint = tf.keras.callbacks.ModelCheckpoint(filepath=os.path.join(autoencoder_path, 'current_best_model'),   \n",
    "                                                      monitor=\"val_loss\", save_best_only=True, mode=\"min\", verbose=0)"
   ]
  },
  {
   "cell_type": "code",
   "execution_count": 28,
   "metadata": {},
   "outputs": [],
   "source": [
    "# # Training the model\n",
    "# history = model.fit(X_train, X_train, \n",
    "#                     validation_data = (X_train_dev, X_train_dev),\n",
    "#                     batch_size=batch_size, epochs=epochs, \n",
    "#                     callbacks=[early_stopping, model_checkpoint])\n",
    "\n",
    "# # Saving the training history\n",
    "# joblib.dump(history.history, os.path.join(autoencoder_path, \"losses.pkl\"))\n",
    "\n",
    "# # Saving the model\n",
    "# tf.keras.models.save_model(model, os.path.join(autoencoder_path, \"fraud_autoencoder\"))"
   ]
  },
  {
   "cell_type": "code",
   "execution_count": 29,
   "metadata": {},
   "outputs": [],
   "source": [
    "# Loading the model\n",
    "model = tf.keras.models.load_model(os.path.join(autoencoder_path, \"fraud_autoencoder\"))"
   ]
  },
  {
   "cell_type": "code",
   "execution_count": 30,
   "metadata": {},
   "outputs": [
    {
     "data": {
      "image/png": "[encoded data removed]",
      "text/plain": [
       "<Figure size 1000x600 with 1 Axes>"
      ]
     },
     "metadata": {},
     "output_type": "display_data"
    }
   ],
   "source": [
    "# Reloading the losses\n",
    "losses = joblib.load(os.path.join(autoencoder_path, \"losses.pkl\"))\n",
    "\n",
    "# Setting the figure size\n",
    "plt.figure(figsize=(10, 6))\n",
    "\n",
    "# Plotting the training and dev losses\n",
    "plt.plot(losses['loss'], label=\"Train Loss\")\n",
    "plt.plot(losses['val_loss'], label=\"Dev Loss\")\n",
    "\n",
    "# Plot settings\n",
    "plt.xlabel(\"Epochs\")\n",
    "plt.ylabel(\"Reconstruction Loss (MSE)\")\n",
    "plt.title(\"Losses\")\n",
    "plt.legend()\n",
    "sns.despine()\n",
    "\n",
    "# Showing the plot\n",
    "plt.show()"
   ]
  },
  {
   "attachments": {},
   "cell_type": "markdown",
   "metadata": {},
   "source": [
    "#### Evaluating the Raw Autoencoder Output"
   ]
  },
  {
   "cell_type": "code",
   "execution_count": 31,
   "metadata": {},
   "outputs": [],
   "source": [
    "# Getting the predictions\n",
    "predictions = model.predict(X_dev, verbose=0)\n",
    "\n",
    "# Reconstruction loss for each sample\n",
    "sample_recon_loss = lambda label, pred: tf.reduce_mean(tf.square(tf.subtract(label, pred)), axis=1).numpy()\n",
    "\n",
    "# Calculating the reconstruction loss\n",
    "dev_mse = sample_recon_loss(X_dev, predictions)"
   ]
  },
  {
   "cell_type": "code",
   "execution_count": 32,
   "metadata": {},
   "outputs": [
    {
     "data": {
      "image/png": "[encoded data removed]",
      "text/plain": [
       "<Figure size 1000x600 with 1 Axes>"
      ]
     },
     "metadata": {},
     "output_type": "display_data"
    }
   ],
   "source": [
    "# Setting the figure size\n",
    "plt.figure(figsize=(10, 6))\n",
    "\n",
    "# Plotting the distribution of the MSE for fraud and non-fraud transactions\n",
    "sns.histplot(dev_mse[y_dev == 0], label=\"Non-Fraud\", fill=True, alpha=0.5, bins=50)\n",
    "sns.histplot(dev_mse[y_dev == 1], label=\"Fraud\", fill=True, alpha=0.5, bins=50)\n",
    "\n",
    "# Plot settings\n",
    "plt.xlabel(\"MSE\")\n",
    "plt.title(\"Distribution of the MSE for Fraud and Non-Fraud Transactions\")\n",
    "plt.legend()\n",
    "sns.despine()\n",
    "\n",
    "# Showing the plot\n",
    "plt.show()"
   ]
  },
  {
   "cell_type": "code",
   "execution_count": 33,
   "metadata": {},
   "outputs": [
    {
     "name": "stdout",
     "output_type": "stream",
     "text": [
      "Non-Fraud Mean MSE: 0.20817 Non-Fraud Std MSE: 0.22723\n",
      "Fraud Mean MSE: 19.11992 Fraud Std MSE: 23.93991\n"
     ]
    }
   ],
   "source": [
    "# Getting the mean and standard deviation of the MSE for fraud and non-fraud transactions\n",
    "print(\"Non-Fraud Mean MSE: {:.5f} Non-Fraud Std MSE: {:.5f}\".format(np.mean(dev_mse[y_dev == 0]), np.std(dev_mse[y_dev == 0])))\n",
    "print(\"Fraud Mean MSE: {:.5f} Fraud Std MSE: {:.5f}\".format(np.mean(dev_mse[y_dev == 1]), np.std(dev_mse[y_dev == 1])))"
   ]
  },
  {
   "attachments": {},
   "cell_type": "markdown",
   "metadata": {},
   "source": [
    "#### Classifier Evaluation of the Autoencoder"
   ]
  },
  {
   "attachments": {},
   "cell_type": "markdown",
   "metadata": {},
   "source": [
    "Interesting threshold idea:\n",
    "- Feature-wise threshold (take the average reconstruction loss for each feature in the clean examples). If say one or more passes that threshold, flag as anomaly. Idea taken from [Torabi et.al (2023)](https://cybersecurity.springeropen.com/articles/10.1186/s42400-022-00134-9)\n",
    "- Z-score and if the Z-score is greater than 3, flag as anomaly.\n",
    "- Convert losses to Robust Z-Score and if the |score| > 3.5 (recommendation), most likely it's and outlier. Taken from this [Medium Article](https://medium.com/@joaopedroferrazrodrigues/outliers-make-us-go-mad-univariate-outlier-detection-b3a72f1ea8c7)\n",
    "$$\\text{Robust Z-Score} = \\frac{0.6745(x - \\tilde{x})}{MAD}$$\n",
    "where $\\tilde{x}$ is the median and MAD is the median absolute deviation.\n"
   ]
  },
  {
   "attachments": {},
   "cell_type": "markdown",
   "metadata": {},
   "source": [
    "##### Precision-Recall Curve"
   ]
  },
  {
   "cell_type": "code",
   "execution_count": 34,
   "metadata": {},
   "outputs": [
    {
     "data": {
      "image/png": "[encoded data removed]",
      "text/plain": [
       "<Figure size 1000x600 with 1 Axes>"
      ]
     },
     "metadata": {},
     "output_type": "display_data"
    }
   ],
   "source": [
    "# Plotting the precision-recall curve\n",
    "plot_precision_recall_curve(y_dev, dev_mse, \"Autoencoder\")"
   ]
  },
  {
   "attachments": {},
   "cell_type": "markdown",
   "metadata": {},
   "source": [
    "##### Receiver Operating Characteristic (ROC) Curve"
   ]
  },
  {
   "cell_type": "code",
   "execution_count": 35,
   "metadata": {},
   "outputs": [
    {
     "data": {
      "image/png": "[encoded data removed]",
      "text/plain": [
       "<Figure size 1000x600 with 1 Axes>"
      ]
     },
     "metadata": {},
     "output_type": "display_data"
    }
   ],
   "source": [
    "# Plotting the ROC curve\n",
    "plot_roc_curve(y_dev, dev_mse, \"Autoencoder\")"
   ]
  },
  {
   "cell_type": "code",
   "execution_count": 36,
   "metadata": {},
   "outputs": [
    {
     "name": "stdout",
     "output_type": "stream",
     "text": [
      "AUC: 0.94904\n"
     ]
    }
   ],
   "source": [
    "# Calculate the AUC\n",
    "print(\"AUC: {:.5f}\".format(roc_auc_score(y_dev, dev_mse)))"
   ]
  },
  {
   "attachments": {},
   "cell_type": "markdown",
   "metadata": {},
   "source": [
    "##### Threshold Selection, Confusion Matrix, and Classification Report"
   ]
  },
  {
   "cell_type": "code",
   "execution_count": 37,
   "metadata": {},
   "outputs": [],
   "source": [
    "# Deciding the threshold\n",
    "threshold = .75\n",
    "\n",
    "# Getting the predictions\n",
    "y_dev_pred_ae = np.where(dev_mse > threshold, 1, 0)"
   ]
  },
  {
   "cell_type": "code",
   "execution_count": 38,
   "metadata": {},
   "outputs": [
    {
     "data": {
      "text/plain": [
       "{'Accuracy': 0.9014227642276422,\n",
       " 'F1': 0.895361380798274,\n",
       " 'Precision': 0.9540229885057471,\n",
       " 'Recall': 0.8434959349593496,\n",
       " 'AUC': 0.9014227642276423}"
      ]
     },
     "execution_count": 38,
     "metadata": {},
     "output_type": "execute_result"
    }
   ],
   "source": [
    "# Model metrics\n",
    "classifier_metrics(y_dev, y_dev_pred_ae)"
   ]
  },
  {
   "cell_type": "code",
   "execution_count": 39,
   "metadata": {},
   "outputs": [
    {
     "data": {
      "image/png": "[encoded data removed]",
      "text/plain": [
       "<Figure size 1000x600 with 2 Axes>"
      ]
     },
     "metadata": {},
     "output_type": "display_data"
    }
   ],
   "source": [
    "# Plotting the confusion matrix\n",
    "plot_confusion_matrix(y_dev, y_dev_pred_ae, \"Autoencoder\")"
   ]
  },
  {
   "cell_type": "code",
   "execution_count": 40,
   "metadata": {},
   "outputs": [
    {
     "name": "stdout",
     "output_type": "stream",
     "text": [
      "              precision    recall  f1-score   support\n",
      "\n",
      "           0       0.86      0.96      0.91       492\n",
      "           1       0.95      0.84      0.90       492\n",
      "\n",
      "    accuracy                           0.90       984\n",
      "   macro avg       0.91      0.90      0.90       984\n",
      "weighted avg       0.91      0.90      0.90       984\n",
      "\n"
     ]
    }
   ],
   "source": [
    "# Getting the classification report\n",
    "print(classification_report(y_dev, y_dev_pred_ae))"
   ]
  }
 ],
 "metadata": {
  "kernelspec": {
   "display_name": "base",
   "language": "python",
   "name": "python3"
  },
  "language_info": {
   "codemirror_mode": {
    "name": "ipython",
    "version": 3
   },
   "file_extension": ".py",
   "mimetype": "text/x-python",
   "name": "python",
   "nbconvert_exporter": "python",
   "pygments_lexer": "ipython3",
   "version": "3.10.10"
  },
  "orig_nbformat": 4
 },
 "nbformat": 4,
 "nbformat_minor": 2
}
